{
  "nbformat": 4,
  "nbformat_minor": 0,
  "metadata": {
    "colab": {
      "name": "caesar_cipher",
      "provenance": [],
      "collapsed_sections": []
    },
    "kernelspec": {
      "name": "python3",
      "display_name": "Python 3"
    }
  },
  "cells": [
    {
      "cell_type": "code",
      "metadata": {
        "id": "ve-KFpoaDR4a"
      },
      "source": [
        "import string"
      ],
      "execution_count": 1,
      "outputs": []
    },
    {
      "cell_type": "code",
      "metadata": {
        "id": "75P1RKfXDVsK"
      },
      "source": [
        "def caesar_encrypt(data,key):    \r\n",
        "    res = \"\"    \r\n",
        "    for x in range(len(data)):        \r\n",
        "       if data[x].isupper():            \r\n",
        "          pos = string.ascii_uppercase.index(data[x].replace(\" \", \"\")) + key\r\n",
        "          pos = pos % 26            \r\n",
        "          res += string.ascii_uppercase[pos]\r\n",
        "       elif data[x].islower():            \r\n",
        "          pos = string.ascii_lowercase.index(data[x].replace(\" \", \"\")) + key       \r\n",
        "          pos = pos % 26            \r\n",
        "          res += string.ascii_lowercase[pos]\r\n",
        "       else:            \r\n",
        "          res += data[x].replace(\" \", \"\")   \r\n",
        "    return res\r\n",
        "\r\n",
        "def caesar_decrypt(data,key):    \r\n",
        "    res = \"\"    \r\n",
        "    for x in range(len(data)):        \r\n",
        "       if data[x].isupper():            \r\n",
        "          pos = string.ascii_uppercase.index(data[x]) - key            \r\n",
        "          pos = pos % 26            \r\n",
        "          res += string.ascii_uppercase[pos]        \r\n",
        "       elif data[x].islower():            \r\n",
        "          pos = string.ascii_lowercase.index(data[x]) - key            \r\n",
        "          pos = pos % 26            \r\n",
        "          res += string.ascii_lowercase[pos]        \r\n",
        "       else:            \r\n",
        "          res += data[x]    \r\n",
        "    return res"
      ],
      "execution_count": 2,
      "outputs": []
    },
    {
      "cell_type": "code",
      "metadata": {
        "colab": {
          "base_uri": "https://localhost:8080/"
        },
        "id": "CS0MbCHpDcBp",
        "outputId": "809b8dd3-0210-4261-fc60-f478ac5e8a8c"
      },
      "source": [
        "enkripsi = caesar_encrypt(\"caesar cipher\", 1)\r\n",
        "dekripsi = caesar_decrypt(enkripsi, 1)\r\n",
        "print(enkripsi)\r\n",
        "print(dekripsi)"
      ],
      "execution_count": 4,
      "outputs": [
        {
          "output_type": "stream",
          "text": [
            "dbftbsdjqifs\n",
            "caesarcipher\n"
          ],
          "name": "stdout"
        }
      ]
    }
  ]
}